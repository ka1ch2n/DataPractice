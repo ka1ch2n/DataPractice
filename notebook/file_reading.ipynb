{
 "cells": [
  {
   "cell_type": "code",
   "execution_count": 8,
   "metadata": {
    "collapsed": false
   },
   "outputs": [
    {
     "name": "stderr",
     "output_type": "stream",
     "text": [
      "//anaconda/lib/python3.5/site-packages/ipykernel/__main__.py:3: DeprecationWarning: 'U' mode is deprecated\n",
      "  app.launch_new_instance()\n"
     ]
    }
   ],
   "source": [
    "# read the whole file at once, return a single string (including newlines)\n",
    "# 'rU' mode (read universal) converts different line endings into '\\n'\n",
    "\n",
    "f = open('airlines.csv', mode='rU')\n",
    "file_string = f.read()\n",
    "f.close()"
   ]
  },
  {
   "cell_type": "code",
   "execution_count": 9,
   "metadata": {
    "collapsed": false
   },
   "outputs": [
    {
     "name": "stderr",
     "output_type": "stream",
     "text": [
      "//anaconda/lib/python3.5/site-packages/ipykernel/__main__.py:3: DeprecationWarning: 'U' mode is deprecated\n",
      "  app.launch_new_instance()\n"
     ]
    }
   ],
   "source": [
    "# use a context manager to automatically close your file\n",
    "\n",
    "with open('airlines.csv', mode='rU') as f:\n",
    "    file_string = f.read()"
   ]
  },
  {
   "cell_type": "code",
   "execution_count": 12,
   "metadata": {
    "collapsed": false
   },
   "outputs": [
    {
     "name": "stderr",
     "output_type": "stream",
     "text": [
      "//anaconda/lib/python3.5/site-packages/ipykernel/__main__.py:3: DeprecationWarning: 'U' mode is deprecated\n",
      "  app.launch_new_instance()\n"
     ]
    }
   ],
   "source": [
    "# read the file into a list (each list element is one row)\n",
    "\n",
    "with open('airlines.csv', mode='rU') as f:\n",
    "    file_list = []\n",
    "    for row in f:\n",
    "        file_list.append(row)\n"
   ]
  },
  {
   "cell_type": "code",
   "execution_count": 15,
   "metadata": {
    "collapsed": false
   },
   "outputs": [
    {
     "name": "stderr",
     "output_type": "stream",
     "text": [
      "//anaconda/lib/python3.5/site-packages/ipykernel/__main__.py:3: DeprecationWarning: 'U' mode is deprecated\n",
      "  app.launch_new_instance()\n"
     ]
    }
   ],
   "source": [
    "# do the same thing using a list comprehension\n",
    "\n",
    "with open('airlines.csv',mode = 'rU') as f:\n",
    "    file_list = [row for row in f]\n"
   ]
  },
  {
   "cell_type": "code",
   "execution_count": 18,
   "metadata": {
    "collapsed": false
   },
   "outputs": [
    {
     "data": {
      "text/plain": [
       "['h', 'llo DAT stud', 'nts']"
      ]
     },
     "execution_count": 18,
     "metadata": {},
     "output_type": "execute_result"
    }
   ],
   "source": [
    "# side note: splitting strings\n",
    "\n",
    "'hello DAT students'.split()\n",
    "'hello DAT students'.split('e')\n"
   ]
  },
  {
   "cell_type": "code",
   "execution_count": 1,
   "metadata": {
    "collapsed": false
   },
   "outputs": [
    {
     "name": "stderr",
     "output_type": "stream",
     "text": [
      "//anaconda/lib/python3.5/site-packages/ipykernel/__main__.py:3: DeprecationWarning: 'U' mode is deprecated\n",
      "  app.launch_new_instance()\n"
     ]
    }
   ],
   "source": [
    "# split each string (at the commas) into a list\n",
    "\n",
    "with open('airlines.csv', mode='rU') as f:\n",
    "    file_nested_list = [row.split(',') for row in f]\n"
   ]
  },
  {
   "cell_type": "code",
   "execution_count": 4,
   "metadata": {
    "collapsed": false
   },
   "outputs": [
    {
     "name": "stderr",
     "output_type": "stream",
     "text": [
      "//anaconda/lib/python3.5/site-packages/ipykernel/__main__.py:4: DeprecationWarning: 'U' mode is deprecated\n"
     ]
    },
    {
     "data": {
      "text/plain": [
       "(['airline',\n",
       "  'avail_seat_km_per_week',\n",
       "  'incidents_85_99',\n",
       "  'fatal_accidents_85_99',\n",
       "  'fatalities_85_99',\n",
       "  'incidents_00_14',\n",
       "  'fatal_accidents_00_14',\n",
       "  'fatalities_00_14'],\n",
       " [['Aer Lingus', '320906734', '2', '0', '0', '0', '0', '0'],\n",
       "  ['Aeroflot*', '1197672318', '76', '14', '128', '6', '1', '88'],\n",
       "  ['Aerolineas Argentinas', '385803648', '6', '0', '0', '1', '0', '0'],\n",
       "  ['Aeromexico*', '596871813', '3', '1', '64', '5', '0', '0'],\n",
       "  ['Air Canada', '1865253802', '2', '0', '0', '2', '0', '0'],\n",
       "  ['Air France', '3004002661', '14', '4', '79', '6', '2', '337'],\n",
       "  ['Air India*', '869253552', '2', '1', '329', '4', '1', '158'],\n",
       "  ['Air New Zealand*', '710174817', '3', '0', '0', '5', '1', '7'],\n",
       "  ['Alaska Airlines*', '965346773', '5', '0', '0', '5', '1', '88'],\n",
       "  ['Alitalia', '698012498', '7', '2', '50', '4', '0', '0'],\n",
       "  ['All Nippon Airways', '1841234177', '3', '1', '1', '7', '0', '0'],\n",
       "  ['American*', '5228357340', '21', '5', '101', '17', '3', '416'],\n",
       "  ['Austrian Airlines', '358239823', '1', '0', '0', '1', '0', '0'],\n",
       "  ['Avianca', '396922563', '5', '3', '323', '0', '0', '0'],\n",
       "  ['British Airways*', '3179760952', '4', '0', '0', '6', '0', '0'],\n",
       "  ['Cathay Pacific*', '2582459303', '0', '0', '0', '2', '0', '0'],\n",
       "  ['China Airlines', '813216487', '12', '6', '535', '2', '1', '225'],\n",
       "  ['Condor', '417982610', '2', '1', '16', '0', '0', '0'],\n",
       "  ['COPA', '550491507', '3', '1', '47', '0', '0', '0'],\n",
       "  ['Delta / Northwest*', '6525658894', '24', '12', '407', '24', '2', '51'],\n",
       "  ['Egyptair', '557699891', '8', '3', '282', '4', '1', '14'],\n",
       "  ['El Al', '335448023', '1', '1', '4', '1', '0', '0'],\n",
       "  ['Ethiopian Airlines', '488560643', '25', '5', '167', '5', '2', '92'],\n",
       "  ['Finnair', '506464950', '1', '0', '0', '0', '0', '0'],\n",
       "  ['Garuda Indonesia', '613356665', '10', '3', '260', '4', '2', '22'],\n",
       "  ['Gulf Air', '301379762', '1', '0', '0', '3', '1', '143'],\n",
       "  ['Hawaiian Airlines', '493877795', '0', '0', '0', '1', '0', '0'],\n",
       "  ['Iberia', '1173203126', '4', '1', '148', '5', '0', '0'],\n",
       "  ['Japan Airlines', '1574217531', '3', '1', '520', '0', '0', '0'],\n",
       "  ['Kenya Airways', '277414794', '2', '0', '0', '2', '2', '283'],\n",
       "  ['KLM*', '1874561773', '7', '1', '3', '1', '0', '0'],\n",
       "  ['Korean Air', '1734522605', '12', '5', '425', '1', '0', '0'],\n",
       "  ['LAN Airlines', '1001965891', '3', '2', '21', '0', '0', '0'],\n",
       "  ['Lufthansa*', '3426529504', '6', '1', '2', '3', '0', '0'],\n",
       "  ['Malaysia Airlines', '1039171244', '3', '1', '34', '3', '2', '537'],\n",
       "  ['Pakistan International', '348563137', '8', '3', '234', '10', '2', '46'],\n",
       "  ['Philippine Airlines', '413007158', '7', '4', '74', '2', '1', '1'],\n",
       "  ['Qantas*', '1917428984', '1', '0', '0', '5', '0', '0'],\n",
       "  ['Royal Air Maroc', '295705339', '5', '3', '51', '3', '0', '0'],\n",
       "  ['SAS*', '682971852', '5', '0', '0', '6', '1', '110'],\n",
       "  ['Saudi Arabian', '859673901', '7', '2', '313', '11', '0', '0'],\n",
       "  ['Singapore Airlines', '2376857805', '2', '2', '6', '2', '1', '83'],\n",
       "  ['South African', '651502442', '2', '1', '159', '1', '0', '0'],\n",
       "  ['Southwest Airlines', '3276525770', '1', '0', '0', '8', '0', '0'],\n",
       "  ['Sri Lankan / AirLanka', '325582976', '2', '1', '14', '4', '0', '0'],\n",
       "  ['SWISS*', '792601299', '2', '1', '229', '3', '0', '0'],\n",
       "  ['TACA', '259373346', '3', '1', '3', '1', '1', '3'],\n",
       "  ['TAM', '1509195646', '8', '3', '98', '7', '2', '188'],\n",
       "  ['TAP - Air Portugal', '619130754', '0', '0', '0', '0', '0', '0'],\n",
       "  ['Thai Airways', '1702802250', '8', '4', '308', '2', '1', '1'],\n",
       "  ['Turkish Airlines', '1946098294', '8', '3', '64', '8', '2', '84'],\n",
       "  ['United / Continental*', '7139291291', '19', '8', '319', '14', '2', '109'],\n",
       "  ['US Airways / America West*',\n",
       "   '2455687887',\n",
       "   '16',\n",
       "   '7',\n",
       "   '224',\n",
       "   '11',\n",
       "   '2',\n",
       "   '23'],\n",
       "  ['Vietnam Airlines', '625084918', '7', '3', '171', '1', '0', '0'],\n",
       "  ['Virgin Atlantic', '1005248585', '1', '0', '0', '0', '0', '0'],\n",
       "  ['Xiamen Airlines', '430462962', '9', '1', '82', '2', '0', '0']])"
      ]
     },
     "execution_count": 4,
     "metadata": {},
     "output_type": "execute_result"
    }
   ],
   "source": [
    "\n",
    "# do the same thing using the csv module\n",
    "import csv\n",
    "with open('airlines.csv', mode='rU') as f:\n",
    "    file_nested_list = [row for row in csv.reader(f)]\n",
    "\n",
    "# separate the header and data\n",
    "header = file_nested_list[0]\n",
    "data = file_nested_list[1:]\n",
    "header, data"
   ]
  },
  {
   "cell_type": "markdown",
   "metadata": {},
   "source": [
    "\n",
    "EXERCISES:\n",
    "\n",
    "1. Create a list containing the average number of incidents per year for each airline.\n",
    "Example for Aer Lingus: (2 + 0)/30 = 0.07\n",
    "Expected output: [0.07, 2.73, 0.23, ...]\n",
    "\n",
    "2. Create a list of airline names (without the star).\n",
    "Expected output: ['Aer Lingus', 'Aeroflot', 'Aerolineas Argentinas', ...]\n",
    "\n",
    "3. Create a list (of the same length) that contains 1 if there's a star and 0 if not.\n",
    "Expected output: [0, 1, 0, ...]\n",
    "\n",
    "4. BONUS: Create a dictionary in which the key is the airline name (without the star)\n",
    "   and the value is the average number of incidents.\n",
    "Expected output: {'Aer Lingus': 0.07, 'Aeroflot': 2.73, ...}\n",
    "'''"
   ]
  },
  {
   "cell_type": "code",
   "execution_count": 7,
   "metadata": {
    "collapsed": false
   },
   "outputs": [],
   "source": [
    "# Part 1\n",
    "incidents = [round((int(row[2]) + int(row[5])) / float(30), 2) for row in data]"
   ]
  },
  {
   "cell_type": "code",
   "execution_count": 8,
   "metadata": {
    "collapsed": false
   },
   "outputs": [
    {
     "data": {
      "text/plain": [
       "(['Aer Lingus',\n",
       "  'Aeroflot',\n",
       "  'Aerolineas Argentinas',\n",
       "  'Aeromexico',\n",
       "  'Air Canada',\n",
       "  'Air France',\n",
       "  'Air India',\n",
       "  'Air New Zealand',\n",
       "  'Alaska Airlines',\n",
       "  'Alitalia',\n",
       "  'All Nippon Airways',\n",
       "  'American',\n",
       "  'Austrian Airlines',\n",
       "  'Avianca',\n",
       "  'British Airways',\n",
       "  'Cathay Pacific',\n",
       "  'China Airlines',\n",
       "  'Condor',\n",
       "  'COPA',\n",
       "  'Delta / Northwest',\n",
       "  'Egyptair',\n",
       "  'El Al',\n",
       "  'Ethiopian Airlines',\n",
       "  'Finnair',\n",
       "  'Garuda Indonesia',\n",
       "  'Gulf Air',\n",
       "  'Hawaiian Airlines',\n",
       "  'Iberia',\n",
       "  'Japan Airlines',\n",
       "  'Kenya Airways',\n",
       "  'KLM',\n",
       "  'Korean Air',\n",
       "  'LAN Airlines',\n",
       "  'Lufthansa',\n",
       "  'Malaysia Airlines',\n",
       "  'Pakistan International',\n",
       "  'Philippine Airlines',\n",
       "  'Qantas',\n",
       "  'Royal Air Maroc',\n",
       "  'SAS',\n",
       "  'Saudi Arabian',\n",
       "  'Singapore Airlines',\n",
       "  'South African',\n",
       "  'Southwest Airlines',\n",
       "  'Sri Lankan / AirLanka',\n",
       "  'SWISS',\n",
       "  'TACA',\n",
       "  'TAM',\n",
       "  'TAP - Air Portugal',\n",
       "  'Thai Airways',\n",
       "  'Turkish Airlines',\n",
       "  'United / Continental',\n",
       "  'US Airways / America West',\n",
       "  'Vietnam Airlines',\n",
       "  'Virgin Atlantic',\n",
       "  'Xiamen Airlines'],\n",
       " [0,\n",
       "  1,\n",
       "  0,\n",
       "  1,\n",
       "  0,\n",
       "  0,\n",
       "  1,\n",
       "  1,\n",
       "  1,\n",
       "  0,\n",
       "  0,\n",
       "  1,\n",
       "  0,\n",
       "  0,\n",
       "  1,\n",
       "  1,\n",
       "  0,\n",
       "  0,\n",
       "  0,\n",
       "  1,\n",
       "  0,\n",
       "  0,\n",
       "  0,\n",
       "  0,\n",
       "  0,\n",
       "  0,\n",
       "  0,\n",
       "  0,\n",
       "  0,\n",
       "  0,\n",
       "  1,\n",
       "  0,\n",
       "  0,\n",
       "  1,\n",
       "  0,\n",
       "  0,\n",
       "  0,\n",
       "  1,\n",
       "  0,\n",
       "  1,\n",
       "  0,\n",
       "  0,\n",
       "  0,\n",
       "  0,\n",
       "  0,\n",
       "  1,\n",
       "  0,\n",
       "  0,\n",
       "  0,\n",
       "  0,\n",
       "  0,\n",
       "  1,\n",
       "  1,\n",
       "  0,\n",
       "  0,\n",
       "  0])"
      ]
     },
     "execution_count": 8,
     "metadata": {},
     "output_type": "execute_result"
    }
   ],
   "source": [
    "airlines = []\n",
    "starred = []\n",
    "for row in data:\n",
    "    if row[0][-1] == '*':\n",
    "        starred.append(1)\n",
    "        airlines.append(row[0][:-1])\n",
    "    else:\n",
    "        starred.append(0)\n",
    "        airlines.append(row[0])\n",
    "airlines, starred"
   ]
  },
  {
   "cell_type": "code",
   "execution_count": 10,
   "metadata": {
    "collapsed": false
   },
   "outputs": [
    {
     "data": {
      "text/plain": [
       "{'Aer Lingus': 0.07,\n",
       " 'Aeroflot': 2.73,\n",
       " 'Aerolineas Argentinas': 0.23,\n",
       " 'Aeromexico': 0.27,\n",
       " 'Air Canada': 0.13,\n",
       " 'Air France': 0.67,\n",
       " 'Air India': 0.2,\n",
       " 'Air New Zealand': 0.27,\n",
       " 'Alaska Airlines': 0.33,\n",
       " 'Alitalia': 0.37,\n",
       " 'All Nippon Airways': 0.33,\n",
       " 'American': 1.27,\n",
       " 'Austrian Airlines': 0.07,\n",
       " 'Avianca': 0.17,\n",
       " 'British Airways': 0.33,\n",
       " 'COPA': 0.1,\n",
       " 'Cathay Pacific': 0.07,\n",
       " 'China Airlines': 0.47,\n",
       " 'Condor': 0.07,\n",
       " 'Delta / Northwest': 1.6,\n",
       " 'Egyptair': 0.4,\n",
       " 'El Al': 0.07,\n",
       " 'Ethiopian Airlines': 1.0,\n",
       " 'Finnair': 0.03,\n",
       " 'Garuda Indonesia': 0.47,\n",
       " 'Gulf Air': 0.13,\n",
       " 'Hawaiian Airlines': 0.03,\n",
       " 'Iberia': 0.3,\n",
       " 'Japan Airlines': 0.1,\n",
       " 'KLM': 0.27,\n",
       " 'Kenya Airways': 0.13,\n",
       " 'Korean Air': 0.43,\n",
       " 'LAN Airlines': 0.1,\n",
       " 'Lufthansa': 0.3,\n",
       " 'Malaysia Airlines': 0.2,\n",
       " 'Pakistan International': 0.6,\n",
       " 'Philippine Airlines': 0.3,\n",
       " 'Qantas': 0.2,\n",
       " 'Royal Air Maroc': 0.27,\n",
       " 'SAS': 0.37,\n",
       " 'SWISS': 0.17,\n",
       " 'Saudi Arabian': 0.6,\n",
       " 'Singapore Airlines': 0.13,\n",
       " 'South African': 0.1,\n",
       " 'Southwest Airlines': 0.3,\n",
       " 'Sri Lankan / AirLanka': 0.2,\n",
       " 'TACA': 0.13,\n",
       " 'TAM': 0.5,\n",
       " 'TAP - Air Portugal': 0.0,\n",
       " 'Thai Airways': 0.33,\n",
       " 'Turkish Airlines': 0.53,\n",
       " 'US Airways / America West': 0.9,\n",
       " 'United / Continental': 1.1,\n",
       " 'Vietnam Airlines': 0.27,\n",
       " 'Virgin Atlantic': 0.03,\n",
       " 'Xiamen Airlines': 0.37}"
      ]
     },
     "execution_count": 10,
     "metadata": {},
     "output_type": "execute_result"
    }
   ],
   "source": [
    "# Part 4\n",
    "\n",
    "airline_incidents = dict(zip(airlines, incidents))\n",
    "airline_incidents"
   ]
  },
  {
   "cell_type": "code",
   "execution_count": null,
   "metadata": {
    "collapsed": true
   },
   "outputs": [],
   "source": []
  }
 ],
 "metadata": {
  "kernelspec": {
   "display_name": "Python 3",
   "language": "python",
   "name": "python3"
  },
  "language_info": {
   "codemirror_mode": {
    "name": "ipython",
    "version": 3
   },
   "file_extension": ".py",
   "mimetype": "text/x-python",
   "name": "python",
   "nbconvert_exporter": "python",
   "pygments_lexer": "ipython3",
   "version": "3.5.1"
  }
 },
 "nbformat": 4,
 "nbformat_minor": 0
}
