{
 "cells": [
  {
   "cell_type": "code",
   "execution_count": 8,
   "metadata": {
    "collapsed": false
   },
   "outputs": [
    {
     "name": "stderr",
     "output_type": "stream",
     "text": [
      "//anaconda/lib/python3.5/site-packages/ipykernel/__main__.py:3: DeprecationWarning: 'U' mode is deprecated\n",
      "  app.launch_new_instance()\n"
     ]
    }
   ],
   "source": [
    "# read the whole file at once, return a single string (including newlines)\n",
    "# 'rU' mode (read universal) converts different line endings into '\\n'\n",
    "\n",
    "f = open('airlines.csv', mode='rU')\n",
    "file_string = f.read()\n",
    "f.close()"
   ]
  },
  {
   "cell_type": "code",
   "execution_count": 9,
   "metadata": {
    "collapsed": false
   },
   "outputs": [
    {
     "name": "stderr",
     "output_type": "stream",
     "text": [
      "//anaconda/lib/python3.5/site-packages/ipykernel/__main__.py:3: DeprecationWarning: 'U' mode is deprecated\n",
      "  app.launch_new_instance()\n"
     ]
    }
   ],
   "source": [
    "# use a context manager to automatically close your file\n",
    "\n",
    "with open('airlines.csv', mode='rU') as f:\n",
    "    file_string = f.read()"
   ]
  },
  {
   "cell_type": "code",
   "execution_count": 12,
   "metadata": {
    "collapsed": false
   },
   "outputs": [
    {
     "name": "stderr",
     "output_type": "stream",
     "text": [
      "//anaconda/lib/python3.5/site-packages/ipykernel/__main__.py:3: DeprecationWarning: 'U' mode is deprecated\n",
      "  app.launch_new_instance()\n"
     ]
    }
   ],
   "source": [
    "# read the file into a list (each list element is one row)\n",
    "\n",
    "with open('airlines.csv', mode='rU') as f:\n",
    "    file_list = []\n",
    "    for row in f:\n",
    "        file_list.append(row)\n"
   ]
  },
  {
   "cell_type": "code",
   "execution_count": 15,
   "metadata": {
    "collapsed": false
   },
   "outputs": [
    {
     "name": "stderr",
     "output_type": "stream",
     "text": [
      "//anaconda/lib/python3.5/site-packages/ipykernel/__main__.py:3: DeprecationWarning: 'U' mode is deprecated\n",
      "  app.launch_new_instance()\n"
     ]
    }
   ],
   "source": [
    "# do the same thing using a list comprehension\n",
    "\n",
    "with open('airlines.csv',mode = 'rU') as f:\n",
    "    file_list = [row for row in f]\n"
   ]
  },
  {
   "cell_type": "code",
   "execution_count": 18,
   "metadata": {
    "collapsed": false
   },
   "outputs": [
    {
     "data": {
      "text/plain": [
       "['h', 'llo DAT stud', 'nts']"
      ]
     },
     "execution_count": 18,
     "metadata": {},
     "output_type": "execute_result"
    }
   ],
   "source": [
    "# side note: splitting strings\n",
    "\n",
    "'hello DAT students'.split()\n",
    "'hello DAT students'.split('e')\n"
   ]
  },
  {
   "cell_type": "code",
   "execution_count": 19,
   "metadata": {
    "collapsed": false
   },
   "outputs": [
    {
     "name": "stderr",
     "output_type": "stream",
     "text": [
      "//anaconda/lib/python3.5/site-packages/ipykernel/__main__.py:3: DeprecationWarning: 'U' mode is deprecated\n",
      "  app.launch_new_instance()\n"
     ]
    },
    {
     "data": {
      "text/plain": [
       "[['airline',\n",
       "  'avail_seat_km_per_week',\n",
       "  'incidents_85_99',\n",
       "  'fatal_accidents_85_99',\n",
       "  'fatalities_85_99',\n",
       "  'incidents_00_14',\n",
       "  'fatal_accidents_00_14',\n",
       "  'fatalities_00_14\\n'],\n",
       " ['Aer Lingus', '320906734', '2', '0', '0', '0', '0', '0\\n'],\n",
       " ['Aeroflot*', '1197672318', '76', '14', '128', '6', '1', '88\\n'],\n",
       " ['Aerolineas Argentinas', '385803648', '6', '0', '0', '1', '0', '0\\n'],\n",
       " ['Aeromexico*', '596871813', '3', '1', '64', '5', '0', '0\\n'],\n",
       " ['Air Canada', '1865253802', '2', '0', '0', '2', '0', '0\\n'],\n",
       " ['Air France', '3004002661', '14', '4', '79', '6', '2', '337\\n'],\n",
       " ['Air India*', '869253552', '2', '1', '329', '4', '1', '158\\n'],\n",
       " ['Air New Zealand*', '710174817', '3', '0', '0', '5', '1', '7\\n'],\n",
       " ['Alaska Airlines*', '965346773', '5', '0', '0', '5', '1', '88\\n'],\n",
       " ['Alitalia', '698012498', '7', '2', '50', '4', '0', '0\\n'],\n",
       " ['All Nippon Airways', '1841234177', '3', '1', '1', '7', '0', '0\\n'],\n",
       " ['American*', '5228357340', '21', '5', '101', '17', '3', '416\\n'],\n",
       " ['Austrian Airlines', '358239823', '1', '0', '0', '1', '0', '0\\n'],\n",
       " ['Avianca', '396922563', '5', '3', '323', '0', '0', '0\\n'],\n",
       " ['British Airways*', '3179760952', '4', '0', '0', '6', '0', '0\\n'],\n",
       " ['Cathay Pacific*', '2582459303', '0', '0', '0', '2', '0', '0\\n'],\n",
       " ['China Airlines', '813216487', '12', '6', '535', '2', '1', '225\\n'],\n",
       " ['Condor', '417982610', '2', '1', '16', '0', '0', '0\\n'],\n",
       " ['COPA', '550491507', '3', '1', '47', '0', '0', '0\\n'],\n",
       " ['Delta / Northwest*', '6525658894', '24', '12', '407', '24', '2', '51\\n'],\n",
       " ['Egyptair', '557699891', '8', '3', '282', '4', '1', '14\\n'],\n",
       " ['El Al', '335448023', '1', '1', '4', '1', '0', '0\\n'],\n",
       " ['Ethiopian Airlines', '488560643', '25', '5', '167', '5', '2', '92\\n'],\n",
       " ['Finnair', '506464950', '1', '0', '0', '0', '0', '0\\n'],\n",
       " ['Garuda Indonesia', '613356665', '10', '3', '260', '4', '2', '22\\n'],\n",
       " ['Gulf Air', '301379762', '1', '0', '0', '3', '1', '143\\n'],\n",
       " ['Hawaiian Airlines', '493877795', '0', '0', '0', '1', '0', '0\\n'],\n",
       " ['Iberia', '1173203126', '4', '1', '148', '5', '0', '0\\n'],\n",
       " ['Japan Airlines', '1574217531', '3', '1', '520', '0', '0', '0\\n'],\n",
       " ['Kenya Airways', '277414794', '2', '0', '0', '2', '2', '283\\n'],\n",
       " ['KLM*', '1874561773', '7', '1', '3', '1', '0', '0\\n'],\n",
       " ['Korean Air', '1734522605', '12', '5', '425', '1', '0', '0\\n'],\n",
       " ['LAN Airlines', '1001965891', '3', '2', '21', '0', '0', '0\\n'],\n",
       " ['Lufthansa*', '3426529504', '6', '1', '2', '3', '0', '0\\n'],\n",
       " ['Malaysia Airlines', '1039171244', '3', '1', '34', '3', '2', '537\\n'],\n",
       " ['Pakistan International', '348563137', '8', '3', '234', '10', '2', '46\\n'],\n",
       " ['Philippine Airlines', '413007158', '7', '4', '74', '2', '1', '1\\n'],\n",
       " ['Qantas*', '1917428984', '1', '0', '0', '5', '0', '0\\n'],\n",
       " ['Royal Air Maroc', '295705339', '5', '3', '51', '3', '0', '0\\n'],\n",
       " ['SAS*', '682971852', '5', '0', '0', '6', '1', '110\\n'],\n",
       " ['Saudi Arabian', '859673901', '7', '2', '313', '11', '0', '0\\n'],\n",
       " ['Singapore Airlines', '2376857805', '2', '2', '6', '2', '1', '83\\n'],\n",
       " ['South African', '651502442', '2', '1', '159', '1', '0', '0\\n'],\n",
       " ['Southwest Airlines', '3276525770', '1', '0', '0', '8', '0', '0\\n'],\n",
       " ['Sri Lankan / AirLanka', '325582976', '2', '1', '14', '4', '0', '0\\n'],\n",
       " ['SWISS*', '792601299', '2', '1', '229', '3', '0', '0\\n'],\n",
       " ['TACA', '259373346', '3', '1', '3', '1', '1', '3\\n'],\n",
       " ['TAM', '1509195646', '8', '3', '98', '7', '2', '188\\n'],\n",
       " ['TAP - Air Portugal', '619130754', '0', '0', '0', '0', '0', '0\\n'],\n",
       " ['Thai Airways', '1702802250', '8', '4', '308', '2', '1', '1\\n'],\n",
       " ['Turkish Airlines', '1946098294', '8', '3', '64', '8', '2', '84\\n'],\n",
       " ['United / Continental*', '7139291291', '19', '8', '319', '14', '2', '109\\n'],\n",
       " ['US Airways / America West*',\n",
       "  '2455687887',\n",
       "  '16',\n",
       "  '7',\n",
       "  '224',\n",
       "  '11',\n",
       "  '2',\n",
       "  '23\\n'],\n",
       " ['Vietnam Airlines', '625084918', '7', '3', '171', '1', '0', '0\\n'],\n",
       " ['Virgin Atlantic', '1005248585', '1', '0', '0', '0', '0', '0\\n'],\n",
       " ['Xiamen Airlines', '430462962', '9', '1', '82', '2', '0', '0\\n']]"
      ]
     },
     "execution_count": 19,
     "metadata": {},
     "output_type": "execute_result"
    }
   ],
   "source": [
    "# split each string (at the commas) into a list\n",
    "\n",
    "with open('airlines.csv', mode='rU') as f:\n",
    "    file_nested_list = [row.split(',') for row in f]\n",
    "file_nested_list"
   ]
  },
  {
   "cell_type": "code",
   "execution_count": null,
   "metadata": {
    "collapsed": true
   },
   "outputs": [],
   "source": []
  }
 ],
 "metadata": {
  "kernelspec": {
   "display_name": "Python 3",
   "language": "python",
   "name": "python3"
  },
  "language_info": {
   "codemirror_mode": {
    "name": "ipython",
    "version": 3
   },
   "file_extension": ".py",
   "mimetype": "text/x-python",
   "name": "python",
   "nbconvert_exporter": "python",
   "pygments_lexer": "ipython3",
   "version": "3.5.1"
  }
 },
 "nbformat": 4,
 "nbformat_minor": 0
}
